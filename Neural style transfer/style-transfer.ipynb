{
 "cells": [
  {
   "cell_type": "code",
   "execution_count": 1,
   "metadata": {},
   "outputs": [],
   "source": [
    "import torch\n",
    "import torch.nn as nn\n",
    "import torch.optim as optim\n",
    "import torchvision.models as models\n",
    "import torchvision.transforms as transforms\n",
    "from torchvision.utils import save_image\n",
    "from PIL import Image"
   ]
  },
  {
   "cell_type": "code",
   "execution_count": 2,
   "metadata": {},
   "outputs": [
    {
     "name": "stderr",
     "output_type": "stream",
     "text": [
      "c:\\Users\\saanb\\AppData\\Local\\Programs\\Python\\Python311\\Lib\\site-packages\\torchvision\\models\\_utils.py:208: UserWarning: The parameter 'pretrained' is deprecated since 0.13 and may be removed in the future, please use 'weights' instead.\n",
      "  warnings.warn(\n",
      "c:\\Users\\saanb\\AppData\\Local\\Programs\\Python\\Python311\\Lib\\site-packages\\torchvision\\models\\_utils.py:223: UserWarning: Arguments other than a weight enum or `None` for 'weights' are deprecated since 0.13 and may be removed in the future. The current behavior is equivalent to passing `weights=VGG19_Weights.IMAGENET1K_V1`. You can also use `weights=VGG19_Weights.DEFAULT` to get the most up-to-date weights.\n",
      "  warnings.warn(msg)\n"
     ]
    },
    {
     "data": {
      "text/plain": [
       "Sequential(\n",
       "  (0): Conv2d(3, 64, kernel_size=(3, 3), stride=(1, 1), padding=(1, 1))\n",
       "  (1): ReLU(inplace=True)\n",
       "  (2): Conv2d(64, 64, kernel_size=(3, 3), stride=(1, 1), padding=(1, 1))\n",
       "  (3): ReLU(inplace=True)\n",
       "  (4): MaxPool2d(kernel_size=2, stride=2, padding=0, dilation=1, ceil_mode=False)\n",
       "  (5): Conv2d(64, 128, kernel_size=(3, 3), stride=(1, 1), padding=(1, 1))\n",
       "  (6): ReLU(inplace=True)\n",
       "  (7): Conv2d(128, 128, kernel_size=(3, 3), stride=(1, 1), padding=(1, 1))\n",
       "  (8): ReLU(inplace=True)\n",
       "  (9): MaxPool2d(kernel_size=2, stride=2, padding=0, dilation=1, ceil_mode=False)\n",
       "  (10): Conv2d(128, 256, kernel_size=(3, 3), stride=(1, 1), padding=(1, 1))\n",
       "  (11): ReLU(inplace=True)\n",
       "  (12): Conv2d(256, 256, kernel_size=(3, 3), stride=(1, 1), padding=(1, 1))\n",
       "  (13): ReLU(inplace=True)\n",
       "  (14): Conv2d(256, 256, kernel_size=(3, 3), stride=(1, 1), padding=(1, 1))\n",
       "  (15): ReLU(inplace=True)\n",
       "  (16): Conv2d(256, 256, kernel_size=(3, 3), stride=(1, 1), padding=(1, 1))\n",
       "  (17): ReLU(inplace=True)\n",
       "  (18): MaxPool2d(kernel_size=2, stride=2, padding=0, dilation=1, ceil_mode=False)\n",
       "  (19): Conv2d(256, 512, kernel_size=(3, 3), stride=(1, 1), padding=(1, 1))\n",
       "  (20): ReLU(inplace=True)\n",
       "  (21): Conv2d(512, 512, kernel_size=(3, 3), stride=(1, 1), padding=(1, 1))\n",
       "  (22): ReLU(inplace=True)\n",
       "  (23): Conv2d(512, 512, kernel_size=(3, 3), stride=(1, 1), padding=(1, 1))\n",
       "  (24): ReLU(inplace=True)\n",
       "  (25): Conv2d(512, 512, kernel_size=(3, 3), stride=(1, 1), padding=(1, 1))\n",
       "  (26): ReLU(inplace=True)\n",
       "  (27): MaxPool2d(kernel_size=2, stride=2, padding=0, dilation=1, ceil_mode=False)\n",
       "  (28): Conv2d(512, 512, kernel_size=(3, 3), stride=(1, 1), padding=(1, 1))\n",
       "  (29): ReLU(inplace=True)\n",
       "  (30): Conv2d(512, 512, kernel_size=(3, 3), stride=(1, 1), padding=(1, 1))\n",
       "  (31): ReLU(inplace=True)\n",
       "  (32): Conv2d(512, 512, kernel_size=(3, 3), stride=(1, 1), padding=(1, 1))\n",
       "  (33): ReLU(inplace=True)\n",
       "  (34): Conv2d(512, 512, kernel_size=(3, 3), stride=(1, 1), padding=(1, 1))\n",
       "  (35): ReLU(inplace=True)\n",
       "  (36): MaxPool2d(kernel_size=2, stride=2, padding=0, dilation=1, ceil_mode=False)\n",
       ")"
      ]
     },
     "execution_count": 2,
     "metadata": {},
     "output_type": "execute_result"
    }
   ],
   "source": [
    "model = models.vgg19(pretrained=True).features\n",
    "model"
   ]
  },
  {
   "cell_type": "code",
   "execution_count": 3,
   "metadata": {},
   "outputs": [],
   "source": [
    "class VGG(nn.Module):\n",
    "    def __init__(self):\n",
    "        super(VGG, self).__init__()\n",
    "        self.chosen_features = [0, 5, 10, 19, 28]\n",
    "        self.model = models.vgg19(pretrained=True).features[:29]\n",
    "\n",
    "    def forward(self, x):\n",
    "        features = []\n",
    "        for layer_num, layer in enumerate(self.model):\n",
    "            x = layer(x)\n",
    "            if layer_num in self.chosen_features:\n",
    "                features.append(x)\n",
    "\n",
    "        return features"
   ]
  },
  {
   "cell_type": "code",
   "execution_count": 10,
   "metadata": {},
   "outputs": [],
   "source": [
    "def load_image(image_name):\n",
    "    image = Image.open(image_name)\n",
    "    image = loader(image).unsqueeze(0)\n",
    "    return image.to(device)"
   ]
  },
  {
   "cell_type": "code",
   "execution_count": 11,
   "metadata": {},
   "outputs": [],
   "source": [
    "device = torch.device(\"cuda\" if torch.cuda.is_available() else \"cpu\")\n",
    "imsize = 356"
   ]
  },
  {
   "cell_type": "code",
   "execution_count": 12,
   "metadata": {},
   "outputs": [],
   "source": [
    "loader = transforms.Compose(\n",
    "    [\n",
    "        transforms.Resize((imsize, imsize)),\n",
    "        transforms.ToTensor(),\n",
    "    ]\n",
    ")"
   ]
  },
  {
   "cell_type": "code",
   "execution_count": 15,
   "metadata": {},
   "outputs": [],
   "source": [
    "original_img = load_image(\"MIT_dome.jpg\")\n",
    "style_img = load_image(\"Starry_Night.jpg\")\n",
    "generated = original_img.clone().requires_grad_(True)\n",
    "model = VGG().to(device).eval()"
   ]
  },
  {
   "cell_type": "code",
   "execution_count": 16,
   "metadata": {},
   "outputs": [],
   "source": [
    "total_steps = 6000\n",
    "learning_rate = 0.001\n",
    "alpha = 1\n",
    "beta = 0.01\n",
    "optimizer = optim.Adam([generated], lr=learning_rate)"
   ]
  },
  {
   "cell_type": "code",
   "execution_count": 17,
   "metadata": {},
   "outputs": [
    {
     "name": "stdout",
     "output_type": "stream",
     "text": [
      "tensor(653701.2500, device='cuda:0', grad_fn=<AddBackward0>)\n",
      "tensor(16626.0195, device='cuda:0', grad_fn=<AddBackward0>)\n",
      "tensor(8407.8271, device='cuda:0', grad_fn=<AddBackward0>)\n",
      "tensor(5603.6367, device='cuda:0', grad_fn=<AddBackward0>)\n",
      "tensor(4188.3604, device='cuda:0', grad_fn=<AddBackward0>)\n",
      "tensor(3355.8149, device='cuda:0', grad_fn=<AddBackward0>)\n",
      "tensor(2816.4109, device='cuda:0', grad_fn=<AddBackward0>)\n",
      "tensor(2438.6121, device='cuda:0', grad_fn=<AddBackward0>)\n",
      "tensor(2158.1675, device='cuda:0', grad_fn=<AddBackward0>)\n",
      "tensor(1941.0804, device='cuda:0', grad_fn=<AddBackward0>)\n",
      "tensor(1767.9083, device='cuda:0', grad_fn=<AddBackward0>)\n",
      "tensor(1626.4784, device='cuda:0', grad_fn=<AddBackward0>)\n",
      "tensor(1507.6978, device='cuda:0', grad_fn=<AddBackward0>)\n",
      "tensor(1404.3403, device='cuda:0', grad_fn=<AddBackward0>)\n",
      "tensor(1313.9401, device='cuda:0', grad_fn=<AddBackward0>)\n",
      "tensor(1234.0369, device='cuda:0', grad_fn=<AddBackward0>)\n",
      "tensor(1162.1794, device='cuda:0', grad_fn=<AddBackward0>)\n",
      "tensor(1096.7699, device='cuda:0', grad_fn=<AddBackward0>)\n",
      "tensor(1038.0076, device='cuda:0', grad_fn=<AddBackward0>)\n",
      "tensor(984.5961, device='cuda:0', grad_fn=<AddBackward0>)\n",
      "tensor(935.1491, device='cuda:0', grad_fn=<AddBackward0>)\n",
      "tensor(889.9948, device='cuda:0', grad_fn=<AddBackward0>)\n",
      "tensor(848.4106, device='cuda:0', grad_fn=<AddBackward0>)\n",
      "tensor(810.8295, device='cuda:0', grad_fn=<AddBackward0>)\n",
      "tensor(775.7896, device='cuda:0', grad_fn=<AddBackward0>)\n",
      "tensor(743.2889, device='cuda:0', grad_fn=<AddBackward0>)\n",
      "tensor(713.6227, device='cuda:0', grad_fn=<AddBackward0>)\n",
      "tensor(687.2191, device='cuda:0', grad_fn=<AddBackward0>)\n",
      "tensor(661.7018, device='cuda:0', grad_fn=<AddBackward0>)\n",
      "tensor(638.6902, device='cuda:0', grad_fn=<AddBackward0>)\n"
     ]
    }
   ],
   "source": [
    "for step in range(total_steps):\n",
    "    generated_features = model(generated)\n",
    "    original_img_features = model(original_img)\n",
    "    style_features = model(style_img)\n",
    "\n",
    "    style_loss = original_loss = 0\n",
    "\n",
    "    for gen_feature, orig_feature, style_feature in zip(\n",
    "        generated_features, original_img_features, style_features\n",
    "    ):\n",
    "\n",
    "        batch_size, channel, height, width = gen_feature.shape\n",
    "        original_loss += torch.mean((gen_feature - orig_feature) ** 2)\n",
    "\n",
    "        G = gen_feature.view(channel, height * width).mm(\n",
    "            gen_feature.view(channel, height * width).t()\n",
    "        )\n",
    "\n",
    "        A = style_feature.view(channel, height * width).mm(\n",
    "            style_feature.view(channel, height * width).t()\n",
    "        )\n",
    "        style_loss += torch.mean((G - A) ** 2)\n",
    "\n",
    "    total_loss = alpha * original_loss + beta * style_loss\n",
    "    optimizer.zero_grad()\n",
    "    total_loss.backward()\n",
    "    optimizer.step()\n",
    "\n",
    "    if step % 200 == 0:\n",
    "        print(total_loss)\n",
    "        save_image(generated, \"generated.png\")"
   ]
  }
 ],
 "metadata": {
  "kernelspec": {
   "display_name": "Python 3",
   "language": "python",
   "name": "python3"
  },
  "language_info": {
   "codemirror_mode": {
    "name": "ipython",
    "version": 3
   },
   "file_extension": ".py",
   "mimetype": "text/x-python",
   "name": "python",
   "nbconvert_exporter": "python",
   "pygments_lexer": "ipython3",
   "version": "3.11.9"
  }
 },
 "nbformat": 4,
 "nbformat_minor": 2
}
